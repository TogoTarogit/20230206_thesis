{
 "cells": [
  {
   "cell_type": "code",
   "execution_count": 14,
   "metadata": {},
   "outputs": [],
   "source": [
    "#test how many times culc 10million calc\n",
    "# total_record = 1000000\n",
    "\n",
    "# for i in range(total_record):\n",
    "#     #print(i)\n",
    "#     if i % 1000:\n",
    "#         #print(\"test\")\n",
    "#         pass\n",
    "\n",
    "# print(\"exam finisht\")\n",
    "\n",
    "#100万数えるのには1.６秒かかった\n"
   ]
  },
  {
   "cell_type": "code",
   "execution_count": 15,
   "metadata": {},
   "outputs": [],
   "source": [
    "#test show all data in test_Data\n",
    "# import csv\n",
    "# file = open(r\"\",'r')\n",
    "# data = csv.reader(file)\n",
    "# i = 0\n",
    "# flg = 100\n",
    "# for row in data :\n",
    "#     #print(row)\n",
    "#     i +=1\n",
    "#     if i ==flg:\n",
    "#         break\n",
    "\n",
    "# print(\"exam finished\")    \n",
    "# file.close"
   ]
  },
  {
   "cell_type": "code",
   "execution_count": 1,
   "metadata": {},
   "outputs": [
    {
     "name": "stdout",
     "output_type": "stream",
     "text": [
      "current_dir :c:\\Users\\tarot\\OneDrive\\デスクトップ\\20230206_thesis\n"
     ]
    },
    {
     "ename": "FileNotFoundError",
     "evalue": "[Errno 2] No such file or directory: '.\\\\raw_data\\\\1_202211291345_yoshida_asahi.CSV'",
     "output_type": "error",
     "traceback": [
      "\u001b[1;31m---------------------------------------------------------------------------\u001b[0m",
      "\u001b[1;31mFileNotFoundError\u001b[0m                         Traceback (most recent call last)",
      "Cell \u001b[1;32mIn [1], line 13\u001b[0m\n\u001b[0;32m     10\u001b[0m \u001b[39m#C:\\Users\\tarot\\OneDrive\\デスクトップ\\脳波判別卒論実験\\input\\raw\\Sbj01\\YH_2019-12-26.CSV\u001b[39;00m\n\u001b[0;32m     11\u001b[0m \u001b[39m# raw_data_path_str =  current_dir + r'raw_data\\1_202211291345_yoshida_asahi.CSV'\u001b[39;00m\n\u001b[0;32m     12\u001b[0m raw_data_path_str \u001b[39m=\u001b[39m \u001b[39mr\u001b[39m\u001b[39m\"\u001b[39m\u001b[39m.\u001b[39m\u001b[39m\\\u001b[39m\u001b[39mraw_data\u001b[39m\u001b[39m\\\u001b[39m\u001b[39m1_202211291345_yoshida_asahi.CSV\u001b[39m\u001b[39m\"\u001b[39m\n\u001b[1;32m---> 13\u001b[0m df \u001b[39m=\u001b[39m pd\u001b[39m.\u001b[39;49mread_csv(raw_data_path_str)\n\u001b[0;32m     14\u001b[0m df\u001b[39m.\u001b[39mhead()\n",
      "File \u001b[1;32mc:\\Users\\tarot\\AppData\\Local\\Programs\\Python\\Python310\\lib\\site-packages\\pandas\\util\\_decorators.py:211\u001b[0m, in \u001b[0;36mdeprecate_kwarg.<locals>._deprecate_kwarg.<locals>.wrapper\u001b[1;34m(*args, **kwargs)\u001b[0m\n\u001b[0;32m    209\u001b[0m     \u001b[39melse\u001b[39;00m:\n\u001b[0;32m    210\u001b[0m         kwargs[new_arg_name] \u001b[39m=\u001b[39m new_arg_value\n\u001b[1;32m--> 211\u001b[0m \u001b[39mreturn\u001b[39;00m func(\u001b[39m*\u001b[39margs, \u001b[39m*\u001b[39m\u001b[39m*\u001b[39mkwargs)\n",
      "File \u001b[1;32mc:\\Users\\tarot\\AppData\\Local\\Programs\\Python\\Python310\\lib\\site-packages\\pandas\\util\\_decorators.py:331\u001b[0m, in \u001b[0;36mdeprecate_nonkeyword_arguments.<locals>.decorate.<locals>.wrapper\u001b[1;34m(*args, **kwargs)\u001b[0m\n\u001b[0;32m    325\u001b[0m \u001b[39mif\u001b[39;00m \u001b[39mlen\u001b[39m(args) \u001b[39m>\u001b[39m num_allow_args:\n\u001b[0;32m    326\u001b[0m     warnings\u001b[39m.\u001b[39mwarn(\n\u001b[0;32m    327\u001b[0m         msg\u001b[39m.\u001b[39mformat(arguments\u001b[39m=\u001b[39m_format_argument_list(allow_args)),\n\u001b[0;32m    328\u001b[0m         \u001b[39mFutureWarning\u001b[39;00m,\n\u001b[0;32m    329\u001b[0m         stacklevel\u001b[39m=\u001b[39mfind_stack_level(),\n\u001b[0;32m    330\u001b[0m     )\n\u001b[1;32m--> 331\u001b[0m \u001b[39mreturn\u001b[39;00m func(\u001b[39m*\u001b[39margs, \u001b[39m*\u001b[39m\u001b[39m*\u001b[39mkwargs)\n",
      "File \u001b[1;32mc:\\Users\\tarot\\AppData\\Local\\Programs\\Python\\Python310\\lib\\site-packages\\pandas\\io\\parsers\\readers.py:950\u001b[0m, in \u001b[0;36mread_csv\u001b[1;34m(filepath_or_buffer, sep, delimiter, header, names, index_col, usecols, squeeze, prefix, mangle_dupe_cols, dtype, engine, converters, true_values, false_values, skipinitialspace, skiprows, skipfooter, nrows, na_values, keep_default_na, na_filter, verbose, skip_blank_lines, parse_dates, infer_datetime_format, keep_date_col, date_parser, dayfirst, cache_dates, iterator, chunksize, compression, thousands, decimal, lineterminator, quotechar, quoting, doublequote, escapechar, comment, encoding, encoding_errors, dialect, error_bad_lines, warn_bad_lines, on_bad_lines, delim_whitespace, low_memory, memory_map, float_precision, storage_options)\u001b[0m\n\u001b[0;32m    935\u001b[0m kwds_defaults \u001b[39m=\u001b[39m _refine_defaults_read(\n\u001b[0;32m    936\u001b[0m     dialect,\n\u001b[0;32m    937\u001b[0m     delimiter,\n\u001b[1;32m   (...)\u001b[0m\n\u001b[0;32m    946\u001b[0m     defaults\u001b[39m=\u001b[39m{\u001b[39m\"\u001b[39m\u001b[39mdelimiter\u001b[39m\u001b[39m\"\u001b[39m: \u001b[39m\"\u001b[39m\u001b[39m,\u001b[39m\u001b[39m\"\u001b[39m},\n\u001b[0;32m    947\u001b[0m )\n\u001b[0;32m    948\u001b[0m kwds\u001b[39m.\u001b[39mupdate(kwds_defaults)\n\u001b[1;32m--> 950\u001b[0m \u001b[39mreturn\u001b[39;00m _read(filepath_or_buffer, kwds)\n",
      "File \u001b[1;32mc:\\Users\\tarot\\AppData\\Local\\Programs\\Python\\Python310\\lib\\site-packages\\pandas\\io\\parsers\\readers.py:605\u001b[0m, in \u001b[0;36m_read\u001b[1;34m(filepath_or_buffer, kwds)\u001b[0m\n\u001b[0;32m    602\u001b[0m _validate_names(kwds\u001b[39m.\u001b[39mget(\u001b[39m\"\u001b[39m\u001b[39mnames\u001b[39m\u001b[39m\"\u001b[39m, \u001b[39mNone\u001b[39;00m))\n\u001b[0;32m    604\u001b[0m \u001b[39m# Create the parser.\u001b[39;00m\n\u001b[1;32m--> 605\u001b[0m parser \u001b[39m=\u001b[39m TextFileReader(filepath_or_buffer, \u001b[39m*\u001b[39m\u001b[39m*\u001b[39mkwds)\n\u001b[0;32m    607\u001b[0m \u001b[39mif\u001b[39;00m chunksize \u001b[39mor\u001b[39;00m iterator:\n\u001b[0;32m    608\u001b[0m     \u001b[39mreturn\u001b[39;00m parser\n",
      "File \u001b[1;32mc:\\Users\\tarot\\AppData\\Local\\Programs\\Python\\Python310\\lib\\site-packages\\pandas\\io\\parsers\\readers.py:1442\u001b[0m, in \u001b[0;36mTextFileReader.__init__\u001b[1;34m(self, f, engine, **kwds)\u001b[0m\n\u001b[0;32m   1439\u001b[0m     \u001b[39mself\u001b[39m\u001b[39m.\u001b[39moptions[\u001b[39m\"\u001b[39m\u001b[39mhas_index_names\u001b[39m\u001b[39m\"\u001b[39m] \u001b[39m=\u001b[39m kwds[\u001b[39m\"\u001b[39m\u001b[39mhas_index_names\u001b[39m\u001b[39m\"\u001b[39m]\n\u001b[0;32m   1441\u001b[0m \u001b[39mself\u001b[39m\u001b[39m.\u001b[39mhandles: IOHandles \u001b[39m|\u001b[39m \u001b[39mNone\u001b[39;00m \u001b[39m=\u001b[39m \u001b[39mNone\u001b[39;00m\n\u001b[1;32m-> 1442\u001b[0m \u001b[39mself\u001b[39m\u001b[39m.\u001b[39m_engine \u001b[39m=\u001b[39m \u001b[39mself\u001b[39;49m\u001b[39m.\u001b[39;49m_make_engine(f, \u001b[39mself\u001b[39;49m\u001b[39m.\u001b[39;49mengine)\n",
      "File \u001b[1;32mc:\\Users\\tarot\\AppData\\Local\\Programs\\Python\\Python310\\lib\\site-packages\\pandas\\io\\parsers\\readers.py:1735\u001b[0m, in \u001b[0;36mTextFileReader._make_engine\u001b[1;34m(self, f, engine)\u001b[0m\n\u001b[0;32m   1733\u001b[0m     \u001b[39mif\u001b[39;00m \u001b[39m\"\u001b[39m\u001b[39mb\u001b[39m\u001b[39m\"\u001b[39m \u001b[39mnot\u001b[39;00m \u001b[39min\u001b[39;00m mode:\n\u001b[0;32m   1734\u001b[0m         mode \u001b[39m+\u001b[39m\u001b[39m=\u001b[39m \u001b[39m\"\u001b[39m\u001b[39mb\u001b[39m\u001b[39m\"\u001b[39m\n\u001b[1;32m-> 1735\u001b[0m \u001b[39mself\u001b[39m\u001b[39m.\u001b[39mhandles \u001b[39m=\u001b[39m get_handle(\n\u001b[0;32m   1736\u001b[0m     f,\n\u001b[0;32m   1737\u001b[0m     mode,\n\u001b[0;32m   1738\u001b[0m     encoding\u001b[39m=\u001b[39;49m\u001b[39mself\u001b[39;49m\u001b[39m.\u001b[39;49moptions\u001b[39m.\u001b[39;49mget(\u001b[39m\"\u001b[39;49m\u001b[39mencoding\u001b[39;49m\u001b[39m\"\u001b[39;49m, \u001b[39mNone\u001b[39;49;00m),\n\u001b[0;32m   1739\u001b[0m     compression\u001b[39m=\u001b[39;49m\u001b[39mself\u001b[39;49m\u001b[39m.\u001b[39;49moptions\u001b[39m.\u001b[39;49mget(\u001b[39m\"\u001b[39;49m\u001b[39mcompression\u001b[39;49m\u001b[39m\"\u001b[39;49m, \u001b[39mNone\u001b[39;49;00m),\n\u001b[0;32m   1740\u001b[0m     memory_map\u001b[39m=\u001b[39;49m\u001b[39mself\u001b[39;49m\u001b[39m.\u001b[39;49moptions\u001b[39m.\u001b[39;49mget(\u001b[39m\"\u001b[39;49m\u001b[39mmemory_map\u001b[39;49m\u001b[39m\"\u001b[39;49m, \u001b[39mFalse\u001b[39;49;00m),\n\u001b[0;32m   1741\u001b[0m     is_text\u001b[39m=\u001b[39;49mis_text,\n\u001b[0;32m   1742\u001b[0m     errors\u001b[39m=\u001b[39;49m\u001b[39mself\u001b[39;49m\u001b[39m.\u001b[39;49moptions\u001b[39m.\u001b[39;49mget(\u001b[39m\"\u001b[39;49m\u001b[39mencoding_errors\u001b[39;49m\u001b[39m\"\u001b[39;49m, \u001b[39m\"\u001b[39;49m\u001b[39mstrict\u001b[39;49m\u001b[39m\"\u001b[39;49m),\n\u001b[0;32m   1743\u001b[0m     storage_options\u001b[39m=\u001b[39;49m\u001b[39mself\u001b[39;49m\u001b[39m.\u001b[39;49moptions\u001b[39m.\u001b[39;49mget(\u001b[39m\"\u001b[39;49m\u001b[39mstorage_options\u001b[39;49m\u001b[39m\"\u001b[39;49m, \u001b[39mNone\u001b[39;49;00m),\n\u001b[0;32m   1744\u001b[0m )\n\u001b[0;32m   1745\u001b[0m \u001b[39massert\u001b[39;00m \u001b[39mself\u001b[39m\u001b[39m.\u001b[39mhandles \u001b[39mis\u001b[39;00m \u001b[39mnot\u001b[39;00m \u001b[39mNone\u001b[39;00m\n\u001b[0;32m   1746\u001b[0m f \u001b[39m=\u001b[39m \u001b[39mself\u001b[39m\u001b[39m.\u001b[39mhandles\u001b[39m.\u001b[39mhandle\n",
      "File \u001b[1;32mc:\\Users\\tarot\\AppData\\Local\\Programs\\Python\\Python310\\lib\\site-packages\\pandas\\io\\common.py:856\u001b[0m, in \u001b[0;36mget_handle\u001b[1;34m(path_or_buf, mode, encoding, compression, memory_map, is_text, errors, storage_options)\u001b[0m\n\u001b[0;32m    851\u001b[0m \u001b[39melif\u001b[39;00m \u001b[39misinstance\u001b[39m(handle, \u001b[39mstr\u001b[39m):\n\u001b[0;32m    852\u001b[0m     \u001b[39m# Check whether the filename is to be opened in binary mode.\u001b[39;00m\n\u001b[0;32m    853\u001b[0m     \u001b[39m# Binary mode does not support 'encoding' and 'newline'.\u001b[39;00m\n\u001b[0;32m    854\u001b[0m     \u001b[39mif\u001b[39;00m ioargs\u001b[39m.\u001b[39mencoding \u001b[39mand\u001b[39;00m \u001b[39m\"\u001b[39m\u001b[39mb\u001b[39m\u001b[39m\"\u001b[39m \u001b[39mnot\u001b[39;00m \u001b[39min\u001b[39;00m ioargs\u001b[39m.\u001b[39mmode:\n\u001b[0;32m    855\u001b[0m         \u001b[39m# Encoding\u001b[39;00m\n\u001b[1;32m--> 856\u001b[0m         handle \u001b[39m=\u001b[39m \u001b[39mopen\u001b[39;49m(\n\u001b[0;32m    857\u001b[0m             handle,\n\u001b[0;32m    858\u001b[0m             ioargs\u001b[39m.\u001b[39;49mmode,\n\u001b[0;32m    859\u001b[0m             encoding\u001b[39m=\u001b[39;49mioargs\u001b[39m.\u001b[39;49mencoding,\n\u001b[0;32m    860\u001b[0m             errors\u001b[39m=\u001b[39;49merrors,\n\u001b[0;32m    861\u001b[0m             newline\u001b[39m=\u001b[39;49m\u001b[39m\"\u001b[39;49m\u001b[39m\"\u001b[39;49m,\n\u001b[0;32m    862\u001b[0m         )\n\u001b[0;32m    863\u001b[0m     \u001b[39melse\u001b[39;00m:\n\u001b[0;32m    864\u001b[0m         \u001b[39m# Binary mode\u001b[39;00m\n\u001b[0;32m    865\u001b[0m         handle \u001b[39m=\u001b[39m \u001b[39mopen\u001b[39m(handle, ioargs\u001b[39m.\u001b[39mmode)\n",
      "\u001b[1;31mFileNotFoundError\u001b[0m: [Errno 2] No such file or directory: '.\\\\raw_data\\\\1_202211291345_yoshida_asahi.CSV'"
     ]
    }
   ],
   "source": [
    "#make test data\n",
    "#1実験データ読み込み\n",
    "#2実験データdf変換\n",
    "import numpy as np\n",
    "import pandas as pd  \n",
    "import os \n",
    "\n",
    "current_dir = os.getcwd()\n",
    "print(\"current_dir :\" + current_dir)\n",
    "\n",
    "\n",
    "raw_data_path_str = r\"\"\n",
    "df = pd.read_csv(raw_data_path_str)\n",
    "df.head()"
   ]
  },
  {
   "cell_type": "code",
   "execution_count": 17,
   "metadata": {},
   "outputs": [
    {
     "name": "stdout",
     "output_type": "stream",
     "text": [
      "(1531000, 24)\n",
      "(100000, 24) (100000, 24)\n"
     ]
    }
   ],
   "source": [
    "#実験データを少なくする（テストデータ作成）\n",
    "test_data_size = 100000\n",
    "print(df.shape)\n",
    "df_test_1 = df[:test_data_size]\n",
    "df_test_2 = df[test_data_size:test_data_size *2 ]\n",
    "print(df_test_1.shape,df_test_2.shape)\n",
    "\n",
    "\n"
   ]
  },
  {
   "cell_type": "code",
   "execution_count": 18,
   "metadata": {},
   "outputs": [],
   "source": [
    "#実験データをcsv として出力する\n",
    "##出力用ディレクトリを作成する\\out として\n",
    "dammy_dir_path = current_dir + \"\\input\\dammydata\"\n",
    "os.makedirs(dammy_dir_path,exist_ok=True) #already existed , no error \n",
    "file_name_1 = \"datasize_\" +str(test_data_size) + r\"_dammydata1.csv\"\n",
    "file_name_2 = \"datasize_\" +str(test_data_size) + r\"_dammydata2.csv\"\n",
    "\n",
    "df_test_1.to_csv(dammy_dir_path + \"/\" + file_name_1)\n",
    "df_test_2.to_csv(dammy_dir_path + \"/\" + file_name_2)\n"
   ]
  },
  {
   "cell_type": "code",
   "execution_count": 19,
   "metadata": {},
   "outputs": [],
   "source": [
    "#show conntection bettween time and exit \n",
    "#maybe, some times exit pulce is showed \n",
    "df_test_1.head()\n",
    "time_EXIT_list = [\"TIME\",\" EXT\"]\n",
    "time_EXIT_list = [\"CLOCK\",\" EXT\"]\n",
    "\n",
    "df_test_1[time_EXIT_list].head()\n",
    "x_list = df_test_1[\"CLOCK\"]\n",
    "y_list = df_test_1[\" EXT\"]\n",
    "\n"
   ]
  },
  {
   "cell_type": "code",
   "execution_count": 20,
   "metadata": {},
   "outputs": [],
   "source": [
    "import matplotlib.pyplot as plt \n",
    "\n",
    "# plt.plot(x_list,y_list) #10 thousands col equal 1 min and 15sec \n"
   ]
  },
  {
   "cell_type": "code",
   "execution_count": 21,
   "metadata": {},
   "outputs": [],
   "source": [
    "#from method import file_control\n"
   ]
  },
  {
   "cell_type": "code",
   "execution_count": 22,
   "metadata": {},
   "outputs": [
    {
     "name": "stdout",
     "output_type": "stream",
     "text": [
      "<class 'list'>\n",
      "['datasize_100000_dammydata1.csv', 'datasize_100000_dammydata2.csv']\n",
      "<class 'str'>\n"
     ]
    }
   ],
   "source": [
    "import os  \n",
    "eeg_datas_dir = r'./input/dammydata'\n",
    "\n",
    "files = os.listdir(eeg_datas_dir)\n",
    "print(type(files))\n",
    "print(files)\n",
    "len(files)\n",
    "print(type(files[0]))"
   ]
  },
  {
   "cell_type": "code",
   "execution_count": 23,
   "metadata": {},
   "outputs": [
    {
     "name": "stdout",
     "output_type": "stream",
     "text": [
      "<class 'pandas.core.series.Series'>\n"
     ]
    },
    {
     "data": {
      "image/png": "[encoded data removed]",
      "text/plain": [
       "<Figure size 640x480 with 1 Axes>"
      ]
     },
     "metadata": {},
     "output_type": "display_data"
    },
    {
     "data": {
      "text/plain": [
       "-6.0"
      ]
     },
     "execution_count": 23,
     "metadata": {},
     "output_type": "execute_result"
    }
   ],
   "source": [
    "eeg_df = pd.read_csv(eeg_datas_dir + \"/\" +files[0]) \n",
    "eeg_df.head()\n",
    "threshold = -500#average(min + max)の概算\n",
    "print(type(eeg_df[\" EXT\"]))\n",
    "\n",
    "sample_EXT_data = eeg_df[\" EXT\"]\n",
    "type(sample_EXT_data)\n",
    "import matplotlib.pyplot as plt \n",
    "x = np.array(sample_EXT_data)\n",
    "plt.title(\"Ext_Data_box_plot\")\n",
    "plt.grid()\n",
    "plt.boxplot(x)\n",
    "plt.show()\n",
    "sample_EXT_data.quantile()"
   ]
  },
  {
   "cell_type": "code",
   "execution_count": 24,
   "metadata": {},
   "outputs": [
    {
     "name": "stdout",
     "output_type": "stream",
     "text": [
      "8241\n",
      "-32768\n"
     ]
    }
   ],
   "source": [
    "#threshold \n",
    "\n",
    "#1take max ext and min \n",
    "max_data = eeg_df[\" EXT\"].max()\n",
    "print(max_data)\n",
    "min_data = eeg_df[\" EXT\"].min()\n",
    "print(min_data)\n",
    "threshold = (max_data + min_data )/2\n"
   ]
  },
  {
   "cell_type": "code",
   "execution_count": 25,
   "metadata": {},
   "outputs": [
    {
     "data": {
      "text/plain": [
       "list"
      ]
     },
     "execution_count": 25,
     "metadata": {},
     "output_type": "execute_result"
    }
   ],
   "source": [
    "\n",
    "trigger_tapple_index_list = [] # (begging_triiger , end_trigger_index )\n",
    "bool_in_trigger = False\n",
    "begin_trigger_index = 0\n",
    "end_trigger_index = 0\n",
    "\n",
    "# EXTの出力に対して　ある一定のあたいより小さいならそれをトリガーとして疑う\n",
    "# 前１つと現在と後ろ２つの計４要素の平均と閾値との比較を行い，トリガーかどうかを判定する\n",
    "# トリガー内と判定したら，trigger_in_bool をTrueとする\n",
    "# トリガー脱出は同じ要領で判定を行う．\n",
    "# 出力はタプルのリスト型として出力する\n",
    "for index ,ext_temp in eeg_df[\" EXT\"].items():\n",
    "    #print(type(ext_temp))  # int \n",
    "    #print(indx)  #int\n",
    "    #print(eeg_df[\" EXT\"][index])\n",
    "    if bool_in_trigger == False and ext_temp < threshold:#find maybe trigger \n",
    "        average_around_ext_temp = (eeg_df[\" EXT\"][index-1] + eeg_df[\" EXT\"][index] + eeg_df[\" EXT\"][index+1]) +eeg_df[\" EXT\"][index+2] /4\n",
    "        if  average_around_ext_temp < threshold: \n",
    "            #print(\"now in trigger, index is \", str(index))\n",
    "            bool_in_trigger = True #  NOW in trigger \n",
    "            begin_trigger_index = index\n",
    "            #print(bool_in_trigger,begin_trigger_index,end_trigger_index)\n",
    "\n",
    "    if bool_in_trigger == True and ext_temp >= threshold:# in trigger ,however tempExt is higher than  threshold\n",
    "        #print(\"now , in trigger and ext_temp higher than threshold  \")\n",
    "        average_around_ext_temp = (eeg_df[\" EXT\"][index-1] + eeg_df[\" EXT\"][index] + eeg_df[\" EXT\"][index+1]) +eeg_df[\" EXT\"][index+2] /4\n",
    "        if  average_around_ext_temp > threshold : \n",
    "            #print(\"now out of trigger, index is \", str(index))\n",
    "            bool_in_trigger = False #  NOW out of  trigger \n",
    "            end_trigger_index = index\n",
    "            tup = begin_trigger_index,end_trigger_index\n",
    "            trigger_tapple_index_list.append(tup) \n",
    "            #print(bool_in_trigger,begin_trigger_index,end_trigger_index)\n",
    "\n",
    "#print(trigger_tapple_index_list)\n",
    "#print(len(trigger_tapple_index_list))\n",
    "for tapple in trigger_tapple_index_list:\n",
    "    beggin , end = tapple\n",
    "    diff = end - beggin\n",
    "    #print(beggin, end ,diff)\n",
    "\n",
    "type(trigger_tapple_index_list) \n",
    "\n",
    "\n"
   ]
  },
  {
   "cell_type": "code",
   "execution_count": 26,
   "metadata": {},
   "outputs": [
    {
     "name": "stdout",
     "output_type": "stream",
     "text": [
      "Index(['start', 'end'], dtype='object')\n"
     ]
    }
   ],
   "source": [
    "#トリガーの範囲を出力する\n",
    "import numpy as np\n",
    "import pandas as pd\n",
    "list_col = [\"start\",\"end\"]\n",
    "triggers_begin_and_end_df = pd.DataFrame(columns=list_col)\n",
    "#print(triggers_begin_and_end_df)\n",
    "\n",
    "for temp_tapple in trigger_tapple_index_list:\n",
    "    beggin, end = temp_tapple\n",
    "    temp_trigger = pd.DataFrame({\"start\":[beggin],\"end\":[end]})\n",
    "    triggers_begin_and_end_df = pd.concat([triggers_begin_and_end_df,temp_trigger],ignore_index=True)\n",
    "\n",
    "#triggers_begin_and_end_df = triggers_begin_and_end_df.rename(columns= {'0':'start' ,'1':'end'})\n",
    "print(triggers_begin_and_end_df.columns)\n",
    "#print(triggers_begin_and_end_df)\n",
    "trigger_out_csv_dir = './input/edit_data/trigger'\n",
    "os.makedirs(trigger_out_csv_dir,exist_ok=True)\n",
    "trigger_csv_name = \"test\"\n",
    "#triggers_begin_and_end_df.to_csv('test.csv')\n",
    "#triggers_begin_and_end_df.to_csv(trigger_out_csv_dir + '/' + trigger_csv_name +'.csv')\n",
    "\n",
    "class raw_csv_to_trigger_csv():\n",
    "    def __int__():\n",
    "        pass\n",
    "\n",
    "\n"
   ]
  },
  {
   "cell_type": "code",
   "execution_count": 27,
   "metadata": {},
   "outputs": [],
   "source": [
    "def raw_csv_to_trigger_csv(raw_eeg_csv_name='',raw_eeg_csv_dir = ''):\n",
    "    import numpy as np\n",
    "    import pandas as pd\n",
    "    #print(raw_eeg_csv_name,raw_eeg_csv_dir)\n",
    "    eeg_df = pd.read_csv(raw_eeg_csv_dir ) \n",
    "    eeg_df.head()\n",
    "    threshold = (max_data + min_data )/2\n",
    "    \n",
    "    #print(type(eeg_df[\" EXT\"]))\n",
    "\n",
    "    trigger_tapple_index_list = [] # (begging_triiger , end_trigger_index )\n",
    "    bool_in_trigger = False\n",
    "    begin_trigger_index = 0\n",
    "    end_trigger_index = 0\n",
    "\n",
    "    # EXTの出力に対して　ある一定のあたいより小さいならそれをトリガーとして疑う\n",
    "    # 前１つと現在と後ろ２つの計４要素の平均と閾値との比較を行い，トリガーかどうかを判定する\n",
    "    # トリガー内と判定したら，trigger_in_bool をTrueとする\n",
    "    # トリガー脱出は同じ要領で判定を行う．\n",
    "    # 出力はタプルのリスト型として出力する\n",
    "    for index ,ext_temp in eeg_df[\" EXT\"].items():\n",
    "        #print(type(ext_temp))  # int \n",
    "        #print(indx)  #int\n",
    "        #print(eeg_df[\" EXT\"][index])\n",
    "        if bool_in_trigger == False and ext_temp < threshold:#find maybe trigger \n",
    "            average_around_ext_temp = (eeg_df[\" EXT\"][index-1] + eeg_df[\" EXT\"][index] + eeg_df[\" EXT\"][index+1]) +eeg_df[\" EXT\"][index+2] /4\n",
    "            if  average_around_ext_temp < threshold: \n",
    "                #print(\"now in trigger, index is \", str(index))\n",
    "                bool_in_trigger = True #  NOW in trigger \n",
    "                begin_trigger_index = index\n",
    "                #print(bool_in_trigger,begin_trigger_index,end_trigger_index)\n",
    "\n",
    "        if bool_in_trigger == True and ext_temp >= threshold:# in trigger ,however tempExt is higher than  threshold\n",
    "            #print(\"now , in trigger and ext_temp higher than threshold  \")\n",
    "            average_around_ext_temp = (eeg_df[\" EXT\"][index-1] + eeg_df[\" EXT\"][index] + eeg_df[\" EXT\"][index+1]) +eeg_df[\" EXT\"][index+2] /4\n",
    "            if  average_around_ext_temp > threshold : \n",
    "                #print(\"now out of trigger, index is \", str(index))\n",
    "                bool_in_trigger = False #  NOW out of  trigger \n",
    "                end_trigger_index = index\n",
    "                tup = begin_trigger_index,end_trigger_index\n",
    "                trigger_tapple_index_list.append(tup) \n",
    "                #print(bool_in_trigger,begin_trigger_index,end_trigger_index)\n",
    "\n",
    "    #print(trigger_tapple_index_list)\n",
    "    #print(len(trigger_tapple_index_list))\n",
    "    for tapple in trigger_tapple_index_list:\n",
    "        beggin , end = tapple\n",
    "        diff = end - beggin\n",
    "        #print(beggin, end ,diff)\n",
    "\n",
    "    #print(type(trigger_tapple_index_list)) \n",
    "  \n",
    "    list_col = [\"trigger_start_index\",\"trigger_end_index\"]\n",
    "    triggers_begin_and_end_df = pd.DataFrame(columns=list_col)\n",
    "    #print(triggers_begin_and_end_df)\n",
    "    \n",
    "    #tapple to pandas df \n",
    "    for temp_tapple in trigger_tapple_index_list:\n",
    "        beggin, end = temp_tapple\n",
    "        temp_trigger = pd.DataFrame({\"trigger_start_index\":[beggin],\"trigger_end_index\":[end]})\n",
    "        triggers_begin_and_end_df = pd.concat([triggers_begin_and_end_df,temp_trigger],ignore_index=True)\n",
    "\n",
    "    #triggers_begin_and_end_df = triggers_begin_and_end_df.rename(columns= {'0':'start' ,'1':'end'})\n",
    "    #print(triggers_begin_and_end_df.columns)\n",
    "    #print(triggers_begin_and_end_df)\n",
    "    trigger_count = len(triggers_begin_and_end_df)\n",
    "    if(trigger_count== 200):#200 :10picture *(10times ) *(recall and show =2)\n",
    "        print(\"Correct:trigger_count_is :\" + str(trigger_count))\n",
    "    else:\n",
    "        print(\"ALERT, some trigger is broken, trigger count is :\" + str(trigger_count))\n",
    "\n",
    "    #print(len(triggers_begin_and_end_df))\n",
    "    #output trigger data as csv \n",
    "    trigger_out_csv_dir = './input/edit_data/trigger'\n",
    "    os.makedirs(trigger_out_csv_dir,exist_ok=True)\n",
    "   \n",
    "    #triggers_begin_and_end_df.to_csv('test.csv')\n",
    "    triggers_begin_and_end_df.to_csv(trigger_out_csv_dir + '/trigger_data_' + raw_eeg_csv_name)\n",
    "\n",
    "def return_file_list_in_dir(dir_path = ''):\n",
    "    import glob\n",
    "    files = glob.glob(dir_path +'/*.csv')\n",
    "\n",
    "    # import os  \n",
    "\n",
    "    # files = os.listdir(dir_path)\n",
    "    # #print(type(files))\n",
    "    # #print(\"file_list_is:\" +str(files) +\", list_len_is:\" + str(len(files)))\n",
    "    # #len(files)\n",
    "    # #print(type(files[0]))\n",
    "    return files\n",
    "\n",
    "def make_trigger_Data_main():\n",
    "    eeg_datas_dir = r'.\\input\\raw_csv'\n",
    "    eeg_data_file_list = return_file_list_in_dir(eeg_datas_dir)\n",
    "    # print(eeg_data_file_list)\n",
    "\n",
    "    #1make_all_csv\n",
    "    for csv_temp_file in eeg_data_file_list:\n",
    "        #print(csv_temp_file)\n",
    "        #print(str(type(csv_temp_file)))\n",
    "        csv_temp_name = csv_temp_file[len(eeg_datas_dir)+1:]#eeg_dadas_dir + \"/\"\n",
    "        print(csv_temp_name)\n",
    "        #print(str(type(csv_temp_name)) + \"test\")\n",
    "        raw_csv_to_trigger_csv(csv_temp_name,csv_temp_file)\n",
    "\n",
    "\n",
    "\n",
    "\n",
    "\n",
    "\n",
    "make_trigger_Data_main()\n",
    "\n"
   ]
  },
  {
   "cell_type": "code",
   "execution_count": 28,
   "metadata": {},
   "outputs": [
    {
     "name": "stdout",
     "output_type": "stream",
     "text": [
      "[18654, 9, 9, 9, 9, 9, 9, 9, 9, 9, 5830, 9, 9, 9, 9, 9, 9, 9, 9, 9, 9, 5808, 9, 9, 9, 9, 9, 9, 9, 9, 9, 9, 5829, 9, 9, 9, 9, 9, 9, 9, 9, 9, 9, 9, 5826, 9, 9, 9, 9, 9, 9, 9, 9, 9, 9, 9, 5812, 9, 9, 9, 9, 9, 9, 9, 9, 9, 9, 5827, 9, 9, 9, 9, 9, 9, 9, 9, 9, 9, 5807, 9, 9, 9, 9, 9, 9, 9, 9, 9, 9, 9, 5814, 9, 9, 9, 9, 9, 9, 9, 9, 9, 8, 9, 5807, 9, 9, 9, 9, 9, 9, 9, 9, 9, 9, 9, 5798, 9, 9, 9, 9, 9, 9, 9, 9, 9, 9, 9, 5825, 9, 9, 9, 9, 9, 9, 9, 9, 9, 9, 5807, 8, 9, 9, 9, 9, 9, 9, 9, 9, 9, 9, 5808, 9, 9, 9, 9, 9, 9, 9, 9, 9, 9]\n",
      "[0, 1, 2, 3, 4, 5, 6, 7, 8, 9, 10, 11, 12, 13, 14, 15, 16, 17, 18, 19, 20, 21, 22, 23, 24, 25, 26, 27, 28, 29, 30, 31, 32, 33, 34, 35, 36, 37, 38, 39, 40, 41, 42, 43, 44, 45, 46, 47, 48, 49, 50, 51, 52, 53, 54, 55, 56, 57, 58, 59, 60, 61, 62, 63, 64, 65, 66, 67, 68, 69, 70, 71, 72, 73, 74, 75, 76, 77, 78, 79, 80, 81, 82, 83, 84, 85, 86, 87, 88, 89, 90, 91, 92, 93, 94, 95, 96, 97, 98, 99, 100, 101, 102, 103, 104, 105, 106, 107, 108, 109, 110, 111, 112, 113, 114, 115, 116, 117, 118, 119, 120, 121, 122, 123, 124, 125, 126, 127, 128, 129, 130, 131, 132, 133, 134, 135, 136, 137, 138, 139, 140, 141, 142, 143, 144, 145, 146, 147, 148, 149, 150, 151, 152, 153, 154, 155, 156, 157, 158, 159]\n"
     ]
    },
    {
     "data": {
      "image/png": "[encoded data removed]",
      "text/plain": [
       "<Figure size 640x480 with 1 Axes>"
      ]
     },
     "metadata": {},
     "output_type": "display_data"
    },
    {
     "ename": "FileNotFoundError",
     "evalue": "[Errno 2] No such file or directory: './out/image/トリガー間の経過時間.png'",
     "output_type": "error",
     "traceback": [
      "\u001b[1;31m---------------------------------------------------------------------------\u001b[0m",
      "\u001b[1;31mFileNotFoundError\u001b[0m                         Traceback (most recent call last)",
      "Cell \u001b[1;32mIn [28], line 26\u001b[0m\n\u001b[0;32m     24\u001b[0m plt\u001b[39m.\u001b[39mtitle(\u001b[39m\"\u001b[39m\u001b[39mトリガー間の経過時間\u001b[39m\u001b[39m\"\u001b[39m)\n\u001b[0;32m     25\u001b[0m plt\u001b[39m.\u001b[39mshow()\n\u001b[1;32m---> 26\u001b[0m plt\u001b[39m.\u001b[39;49msavefig(\u001b[39m\"\u001b[39;49m\u001b[39m./out/image/\u001b[39;49m\u001b[39m\"\u001b[39;49m \u001b[39m+\u001b[39;49m \u001b[39m\"\u001b[39;49m\u001b[39mトリガー間の経過時間.png\u001b[39;49m\u001b[39m\"\u001b[39;49m)\n",
      "File \u001b[1;32mc:\\Users\\tarot\\AppData\\Local\\Programs\\Python\\Python310\\lib\\site-packages\\matplotlib\\pyplot.py:954\u001b[0m, in \u001b[0;36msavefig\u001b[1;34m(*args, **kwargs)\u001b[0m\n\u001b[0;32m    951\u001b[0m \u001b[39m@_copy_docstring_and_deprecators\u001b[39m(Figure\u001b[39m.\u001b[39msavefig)\n\u001b[0;32m    952\u001b[0m \u001b[39mdef\u001b[39;00m \u001b[39msavefig\u001b[39m(\u001b[39m*\u001b[39margs, \u001b[39m*\u001b[39m\u001b[39m*\u001b[39mkwargs):\n\u001b[0;32m    953\u001b[0m     fig \u001b[39m=\u001b[39m gcf()\n\u001b[1;32m--> 954\u001b[0m     res \u001b[39m=\u001b[39m fig\u001b[39m.\u001b[39msavefig(\u001b[39m*\u001b[39margs, \u001b[39m*\u001b[39m\u001b[39m*\u001b[39mkwargs)\n\u001b[0;32m    955\u001b[0m     fig\u001b[39m.\u001b[39mcanvas\u001b[39m.\u001b[39mdraw_idle()  \u001b[39m# Need this if 'transparent=True', to reset colors.\u001b[39;00m\n\u001b[0;32m    956\u001b[0m     \u001b[39mreturn\u001b[39;00m res\n",
      "File \u001b[1;32mc:\\Users\\tarot\\AppData\\Local\\Programs\\Python\\Python310\\lib\\site-packages\\matplotlib\\figure.py:3274\u001b[0m, in \u001b[0;36mFigure.savefig\u001b[1;34m(self, fname, transparent, **kwargs)\u001b[0m\n\u001b[0;32m   3270\u001b[0m     \u001b[39mfor\u001b[39;00m ax \u001b[39min\u001b[39;00m \u001b[39mself\u001b[39m\u001b[39m.\u001b[39maxes:\n\u001b[0;32m   3271\u001b[0m         stack\u001b[39m.\u001b[39menter_context(\n\u001b[0;32m   3272\u001b[0m             ax\u001b[39m.\u001b[39mpatch\u001b[39m.\u001b[39m_cm_set(facecolor\u001b[39m=\u001b[39m\u001b[39m'\u001b[39m\u001b[39mnone\u001b[39m\u001b[39m'\u001b[39m, edgecolor\u001b[39m=\u001b[39m\u001b[39m'\u001b[39m\u001b[39mnone\u001b[39m\u001b[39m'\u001b[39m))\n\u001b[1;32m-> 3274\u001b[0m \u001b[39mself\u001b[39m\u001b[39m.\u001b[39mcanvas\u001b[39m.\u001b[39mprint_figure(fname, \u001b[39m*\u001b[39m\u001b[39m*\u001b[39mkwargs)\n",
      "File \u001b[1;32mc:\\Users\\tarot\\AppData\\Local\\Programs\\Python\\Python310\\lib\\site-packages\\matplotlib\\backend_bases.py:2338\u001b[0m, in \u001b[0;36mFigureCanvasBase.print_figure\u001b[1;34m(self, filename, dpi, facecolor, edgecolor, orientation, format, bbox_inches, pad_inches, bbox_extra_artists, backend, **kwargs)\u001b[0m\n\u001b[0;32m   2334\u001b[0m \u001b[39mtry\u001b[39;00m:\n\u001b[0;32m   2335\u001b[0m     \u001b[39m# _get_renderer may change the figure dpi (as vector formats\u001b[39;00m\n\u001b[0;32m   2336\u001b[0m     \u001b[39m# force the figure dpi to 72), so we need to set it again here.\u001b[39;00m\n\u001b[0;32m   2337\u001b[0m     \u001b[39mwith\u001b[39;00m cbook\u001b[39m.\u001b[39m_setattr_cm(\u001b[39mself\u001b[39m\u001b[39m.\u001b[39mfigure, dpi\u001b[39m=\u001b[39mdpi):\n\u001b[1;32m-> 2338\u001b[0m         result \u001b[39m=\u001b[39m print_method(\n\u001b[0;32m   2339\u001b[0m             filename,\n\u001b[0;32m   2340\u001b[0m             facecolor\u001b[39m=\u001b[39mfacecolor,\n\u001b[0;32m   2341\u001b[0m             edgecolor\u001b[39m=\u001b[39medgecolor,\n\u001b[0;32m   2342\u001b[0m             orientation\u001b[39m=\u001b[39morientation,\n\u001b[0;32m   2343\u001b[0m             bbox_inches_restore\u001b[39m=\u001b[39m_bbox_inches_restore,\n\u001b[0;32m   2344\u001b[0m             \u001b[39m*\u001b[39m\u001b[39m*\u001b[39mkwargs)\n\u001b[0;32m   2345\u001b[0m \u001b[39mfinally\u001b[39;00m:\n\u001b[0;32m   2346\u001b[0m     \u001b[39mif\u001b[39;00m bbox_inches \u001b[39mand\u001b[39;00m restore_bbox:\n",
      "File \u001b[1;32mc:\\Users\\tarot\\AppData\\Local\\Programs\\Python\\Python310\\lib\\site-packages\\matplotlib\\backend_bases.py:2204\u001b[0m, in \u001b[0;36mFigureCanvasBase._switch_canvas_and_return_print_method.<locals>.<lambda>\u001b[1;34m(*args, **kwargs)\u001b[0m\n\u001b[0;32m   2200\u001b[0m     optional_kws \u001b[39m=\u001b[39m {  \u001b[39m# Passed by print_figure for other renderers.\u001b[39;00m\n\u001b[0;32m   2201\u001b[0m         \u001b[39m\"\u001b[39m\u001b[39mdpi\u001b[39m\u001b[39m\"\u001b[39m, \u001b[39m\"\u001b[39m\u001b[39mfacecolor\u001b[39m\u001b[39m\"\u001b[39m, \u001b[39m\"\u001b[39m\u001b[39medgecolor\u001b[39m\u001b[39m\"\u001b[39m, \u001b[39m\"\u001b[39m\u001b[39morientation\u001b[39m\u001b[39m\"\u001b[39m,\n\u001b[0;32m   2202\u001b[0m         \u001b[39m\"\u001b[39m\u001b[39mbbox_inches_restore\u001b[39m\u001b[39m\"\u001b[39m}\n\u001b[0;32m   2203\u001b[0m     skip \u001b[39m=\u001b[39m optional_kws \u001b[39m-\u001b[39m {\u001b[39m*\u001b[39minspect\u001b[39m.\u001b[39msignature(meth)\u001b[39m.\u001b[39mparameters}\n\u001b[1;32m-> 2204\u001b[0m     print_method \u001b[39m=\u001b[39m functools\u001b[39m.\u001b[39mwraps(meth)(\u001b[39mlambda\u001b[39;00m \u001b[39m*\u001b[39margs, \u001b[39m*\u001b[39m\u001b[39m*\u001b[39mkwargs: meth(\n\u001b[0;32m   2205\u001b[0m         \u001b[39m*\u001b[39margs, \u001b[39m*\u001b[39m\u001b[39m*\u001b[39m{k: v \u001b[39mfor\u001b[39;00m k, v \u001b[39min\u001b[39;00m kwargs\u001b[39m.\u001b[39mitems() \u001b[39mif\u001b[39;00m k \u001b[39mnot\u001b[39;00m \u001b[39min\u001b[39;00m skip}))\n\u001b[0;32m   2206\u001b[0m \u001b[39melse\u001b[39;00m:  \u001b[39m# Let third-parties do as they see fit.\u001b[39;00m\n\u001b[0;32m   2207\u001b[0m     print_method \u001b[39m=\u001b[39m meth\n",
      "File \u001b[1;32mc:\\Users\\tarot\\AppData\\Local\\Programs\\Python\\Python310\\lib\\site-packages\\matplotlib\\_api\\deprecation.py:410\u001b[0m, in \u001b[0;36mdelete_parameter.<locals>.wrapper\u001b[1;34m(*inner_args, **inner_kwargs)\u001b[0m\n\u001b[0;32m    400\u001b[0m     deprecation_addendum \u001b[39m=\u001b[39m (\n\u001b[0;32m    401\u001b[0m         \u001b[39mf\u001b[39m\u001b[39m\"\u001b[39m\u001b[39mIf any parameter follows \u001b[39m\u001b[39m{\u001b[39;00mname\u001b[39m!r}\u001b[39;00m\u001b[39m, they should be passed as \u001b[39m\u001b[39m\"\u001b[39m\n\u001b[0;32m    402\u001b[0m         \u001b[39mf\u001b[39m\u001b[39m\"\u001b[39m\u001b[39mkeyword, not positionally.\u001b[39m\u001b[39m\"\u001b[39m)\n\u001b[0;32m    403\u001b[0m     warn_deprecated(\n\u001b[0;32m    404\u001b[0m         since,\n\u001b[0;32m    405\u001b[0m         name\u001b[39m=\u001b[39m\u001b[39mrepr\u001b[39m(name),\n\u001b[1;32m   (...)\u001b[0m\n\u001b[0;32m    408\u001b[0m                  \u001b[39melse\u001b[39;00m deprecation_addendum,\n\u001b[0;32m    409\u001b[0m         \u001b[39m*\u001b[39m\u001b[39m*\u001b[39mkwargs)\n\u001b[1;32m--> 410\u001b[0m \u001b[39mreturn\u001b[39;00m func(\u001b[39m*\u001b[39minner_args, \u001b[39m*\u001b[39m\u001b[39m*\u001b[39minner_kwargs)\n",
      "File \u001b[1;32mc:\\Users\\tarot\\AppData\\Local\\Programs\\Python\\Python310\\lib\\site-packages\\matplotlib\\backends\\backend_agg.py:517\u001b[0m, in \u001b[0;36mFigureCanvasAgg.print_png\u001b[1;34m(self, filename_or_obj, metadata, pil_kwargs, *args)\u001b[0m\n\u001b[0;32m    468\u001b[0m \u001b[39m@_api\u001b[39m\u001b[39m.\u001b[39mdelete_parameter(\u001b[39m\"\u001b[39m\u001b[39m3.5\u001b[39m\u001b[39m\"\u001b[39m, \u001b[39m\"\u001b[39m\u001b[39margs\u001b[39m\u001b[39m\"\u001b[39m)\n\u001b[0;32m    469\u001b[0m \u001b[39mdef\u001b[39;00m \u001b[39mprint_png\u001b[39m(\u001b[39mself\u001b[39m, filename_or_obj, \u001b[39m*\u001b[39margs,\n\u001b[0;32m    470\u001b[0m               metadata\u001b[39m=\u001b[39m\u001b[39mNone\u001b[39;00m, pil_kwargs\u001b[39m=\u001b[39m\u001b[39mNone\u001b[39;00m):\n\u001b[0;32m    471\u001b[0m     \u001b[39m\"\"\"\u001b[39;00m\n\u001b[0;32m    472\u001b[0m \u001b[39m    Write the figure to a PNG file.\u001b[39;00m\n\u001b[0;32m    473\u001b[0m \n\u001b[1;32m   (...)\u001b[0m\n\u001b[0;32m    515\u001b[0m \u001b[39m        *metadata*, including the default 'Software' key.\u001b[39;00m\n\u001b[0;32m    516\u001b[0m \u001b[39m    \"\"\"\u001b[39;00m\n\u001b[1;32m--> 517\u001b[0m     \u001b[39mself\u001b[39;49m\u001b[39m.\u001b[39;49m_print_pil(filename_or_obj, \u001b[39m\"\u001b[39;49m\u001b[39mpng\u001b[39;49m\u001b[39m\"\u001b[39;49m, pil_kwargs, metadata)\n",
      "File \u001b[1;32mc:\\Users\\tarot\\AppData\\Local\\Programs\\Python\\Python310\\lib\\site-packages\\matplotlib\\backends\\backend_agg.py:464\u001b[0m, in \u001b[0;36mFigureCanvasAgg._print_pil\u001b[1;34m(self, filename_or_obj, fmt, pil_kwargs, metadata)\u001b[0m\n\u001b[0;32m    459\u001b[0m \u001b[39m\"\"\"\u001b[39;00m\n\u001b[0;32m    460\u001b[0m \u001b[39mDraw the canvas, then save it using `.image.imsave` (to which\u001b[39;00m\n\u001b[0;32m    461\u001b[0m \u001b[39m*pil_kwargs* and *metadata* are forwarded).\u001b[39;00m\n\u001b[0;32m    462\u001b[0m \u001b[39m\"\"\"\u001b[39;00m\n\u001b[0;32m    463\u001b[0m FigureCanvasAgg\u001b[39m.\u001b[39mdraw(\u001b[39mself\u001b[39m)\n\u001b[1;32m--> 464\u001b[0m mpl\u001b[39m.\u001b[39;49mimage\u001b[39m.\u001b[39;49mimsave(\n\u001b[0;32m    465\u001b[0m     filename_or_obj, \u001b[39mself\u001b[39;49m\u001b[39m.\u001b[39;49mbuffer_rgba(), \u001b[39mformat\u001b[39;49m\u001b[39m=\u001b[39;49mfmt, origin\u001b[39m=\u001b[39;49m\u001b[39m\"\u001b[39;49m\u001b[39mupper\u001b[39;49m\u001b[39m\"\u001b[39;49m,\n\u001b[0;32m    466\u001b[0m     dpi\u001b[39m=\u001b[39;49m\u001b[39mself\u001b[39;49m\u001b[39m.\u001b[39;49mfigure\u001b[39m.\u001b[39;49mdpi, metadata\u001b[39m=\u001b[39;49mmetadata, pil_kwargs\u001b[39m=\u001b[39;49mpil_kwargs)\n",
      "File \u001b[1;32mc:\\Users\\tarot\\AppData\\Local\\Programs\\Python\\Python310\\lib\\site-packages\\matplotlib\\image.py:1664\u001b[0m, in \u001b[0;36mimsave\u001b[1;34m(fname, arr, vmin, vmax, cmap, format, origin, dpi, metadata, pil_kwargs)\u001b[0m\n\u001b[0;32m   1662\u001b[0m pil_kwargs\u001b[39m.\u001b[39msetdefault(\u001b[39m\"\u001b[39m\u001b[39mformat\u001b[39m\u001b[39m\"\u001b[39m, \u001b[39mformat\u001b[39m)\n\u001b[0;32m   1663\u001b[0m pil_kwargs\u001b[39m.\u001b[39msetdefault(\u001b[39m\"\u001b[39m\u001b[39mdpi\u001b[39m\u001b[39m\"\u001b[39m, (dpi, dpi))\n\u001b[1;32m-> 1664\u001b[0m image\u001b[39m.\u001b[39msave(fname, \u001b[39m*\u001b[39m\u001b[39m*\u001b[39mpil_kwargs)\n",
      "File \u001b[1;32mc:\\Users\\tarot\\AppData\\Local\\Programs\\Python\\Python310\\lib\\site-packages\\PIL\\Image.py:2317\u001b[0m, in \u001b[0;36mImage.save\u001b[1;34m(self, fp, format, **params)\u001b[0m\n\u001b[0;32m   2315\u001b[0m         fp \u001b[39m=\u001b[39m builtins\u001b[39m.\u001b[39mopen(filename, \u001b[39m\"\u001b[39m\u001b[39mr+b\u001b[39m\u001b[39m\"\u001b[39m)\n\u001b[0;32m   2316\u001b[0m     \u001b[39melse\u001b[39;00m:\n\u001b[1;32m-> 2317\u001b[0m         fp \u001b[39m=\u001b[39m builtins\u001b[39m.\u001b[39;49mopen(filename, \u001b[39m\"\u001b[39;49m\u001b[39mw+b\u001b[39;49m\u001b[39m\"\u001b[39;49m)\n\u001b[0;32m   2319\u001b[0m \u001b[39mtry\u001b[39;00m:\n\u001b[0;32m   2320\u001b[0m     save_handler(\u001b[39mself\u001b[39m, fp, filename)\n",
      "\u001b[1;31mFileNotFoundError\u001b[0m: [Errno 2] No such file or directory: './out/image/トリガー間の経過時間.png'"
     ]
    },
    {
     "data": {
      "text/plain": [
       "<Figure size 640x480 with 0 Axes>"
      ]
     },
     "metadata": {},
     "output_type": "display_data"
    }
   ],
   "source": [
    "import japanize_matplotlib\n",
    "#トリガー間の経過時間を比較して想起か提示時間かを分析してみる\n",
    "diff_bettween_trigger_list = []\n",
    "for index in range(len(trigger_tapple_index_list)):\n",
    "    #print(index)\n",
    "    a , b = trigger_tapple_index_list[index]\n",
    "    if index == 0:\n",
    "        diff = a - 0\n",
    "        diff_bettween_trigger_list.append(diff)\n",
    "        continue\n",
    "    if index +1 ==  len(trigger_tapple_index_list):\n",
    "        break\n",
    "    else:\n",
    "        c,d = trigger_tapple_index_list[index+1]\n",
    "        diff = c-b\n",
    "        diff_bettween_trigger_list.append(diff)\n",
    "\n",
    "print(diff_bettween_trigger_list)\n",
    "\n",
    "x_list = list(range(len(diff_bettween_trigger_list)))\n",
    "print(x_list)\n",
    "\n",
    "plt.plot(x_list,diff_bettween_trigger_list,)\n",
    "plt.title(\"トリガー間の経過時間\")\n",
    "plt.show()\n",
    "plt.savefig(\"./out/image/\" + \"トリガー間の経過時間.png\")"
   ]
  },
  {
   "cell_type": "code",
   "execution_count": null,
   "metadata": {},
   "outputs": [],
   "source": [
    "#取り出したトリガー情報に対して正しいかどうかをチェックする．\n",
    "# #トリガーの発現時間のグラフ情報とトリガーが何個発出されているか図時計算する\n",
    "\n",
    "# # １．トリガーのファイルリストを取得する\n",
    "# trigger_csv_file_list =  return_file_list_in_dir(trigger_out_csv_dir)\n",
    "# print(trigger_csv_file_list)\n",
    "# # ２．ｃｓｖをリストに変換する\n",
    "# trigger_list = pd.read_csv(trigger_csv_file_list[0]).values.tolist()\n",
    "\n",
    "# # df = df[[\"start\",'end']]\n",
    "# #print(df)\n",
    "# # ３．リストを画像として出力する\n",
    "# diff_bettween_trigger_list = []\n",
    "\n",
    "# for index in range(len(trigger_list)):\n",
    "#     # print(trigger_list[index][0])\n",
    "#     # print(trigger_list[index][2])\n",
    "#     diff_bettween_trigger_list.append ( trigger_list[index][2] - trigger_list[index][1])\n",
    "\n",
    "# #print(diff_bettween_trigger_list)\n",
    "# x_list = list(range(len(diff_bettween_trigger_list)))\n",
    "# #print(x_list)\n",
    "\n",
    "# plt.plot(x_list,diff_bettween_trigger_list,)\n",
    "# plt.title(\"トリガー間の経過時間\")\n",
    "# plt.show()\n",
    "# plt.savefig(\"./out/image/\" + \"トリガー間の経過時間２.png\")\n",
    "\n",
    "# os.makedirs(trigger_out_csv_dir+'/check_img',exist_ok = True)\n",
    "# #plt.savefig(trigger_out_csv_dir+ '/check_img/' +trigger_csv_file_list[0][0:-2]+ \"トリガー間の経過時間\")\n",
    "\n",
    "\n",
    "# # ４．トリガーの発現回数をリストの数として計算する"
   ]
  },
  {
   "cell_type": "code",
   "execution_count": null,
   "metadata": {},
   "outputs": [],
   "source": [
    "#extract_recolling_scene\n",
    "#ブランクデータを削除していく\n",
    "\n",
    "#トリガーの一から　マイナスpadding から　トリガーから　トリガー間の秒数/2 分をデータして扱う\n",
    "\n"
   ]
  },
  {
   "cell_type": "code",
   "execution_count": null,
   "metadata": {},
   "outputs": [],
   "source": [
    "#提示中か想起中かをわかるようにする"
   ]
  }
 ],
 "metadata": {
  "kernelspec": {
   "display_name": "Python 3.10.8 64-bit",
   "language": "python",
   "name": "python3"
  },
  "language_info": {
   "codemirror_mode": {
    "name": "ipython",
    "version": 3
   },
   "file_extension": ".py",
   "mimetype": "text/x-python",
   "name": "python",
   "nbconvert_exporter": "python",
   "pygments_lexer": "ipython3",
   "version": "3.10.8"
  },
  "orig_nbformat": 4,
  "vscode": {
   "interpreter": {
    "hash": "659d75f838e62e9a5bce0771d1f6ba8a6baae0420b46369ec863d697c52d388f"
   }
  }
 },
 "nbformat": 4,
 "nbformat_minor": 2
}
